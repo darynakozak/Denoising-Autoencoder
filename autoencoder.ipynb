{
  "nbformat": 4,
  "nbformat_minor": 0,
  "metadata": {
    "colab": {
      "name": "Untitled11.ipynb",
      "provenance": [],
      "collapsed_sections": []
    },
    "kernelspec": {
      "name": "python3",
      "display_name": "Python 3"
    },
    "language_info": {
      "name": "python"
    }
  },
  "cells": [
    {
      "cell_type": "code",
      "metadata": {
        "id": "6ddCRZExgrcb"
      },
      "source": [
        "import numpy as np\n",
        "import pandas as pd\n",
        "import tensorflow as tf\n",
        "import matplotlib.pyplot as plt\n",
        "import cv2\n",
        "import skimage\n",
        "import keras\n",
        "from keras.models import Sequential\n",
        "from keras.layers import Conv2D, MaxPooling2D, Flatten, Dense, Activation, Dropout\n",
        "from keras.layers.advanced_activations import LeakyReLU\n",
        "from tensorflow.keras.utils import to_categorical\n",
        "from keras.datasets import mnist"
      ],
      "execution_count": null,
      "outputs": []
    },
    {
      "cell_type": "code",
      "metadata": {
        "colab": {
          "base_uri": "https://localhost:8080/"
        },
        "id": "INv-ATb9iYY-",
        "outputId": "2a251591-b9e3-4cd3-d7ca-115c79875a4d"
      },
      "source": [
        "(X_train, y_train), (X_test, y_test) = mnist.load_data()\n",
        "\n",
        "X_train = X_train.astype('float64') / 255.\n",
        "X_test = X_test.astype('float64') / 255.\n",
        "X_train = np.reshape(X_train, (len(X_train), 28, 28, 1))\n",
        "X_test = np.reshape(X_test, (len(X_test), 28, 28, 1))\n"
      ],
      "execution_count": null,
      "outputs": [
        {
          "output_type": "execute_result",
          "data": {
            "text/plain": [
              "(60000, 28, 28, 1)"
            ]
          },
          "metadata": {
            "tags": []
          },
          "execution_count": 45
        }
      ]
    },
    {
      "cell_type": "code",
      "metadata": {
        "colab": {
          "base_uri": "https://localhost:8080/",
          "height": 726
        },
        "id": "_3CPjUAziwGN",
        "outputId": "e0167b96-db4b-4d7b-f211-b04601985133"
      },
      "source": [
        "#have a look on images:\n",
        "\n",
        "for i in range(5):\n",
        "  plt.figure(figsize = (2,2))\n",
        "  plt.imshow(X_train[i].reshape(28, 28), cmap = 'gray')\n",
        "  plt.show()"
      ],
      "execution_count": null,
      "outputs": [
        {
          "output_type": "display_data",
          "data": {
            "image/png": "[encoded data removed]",
            "text/plain": [
              "<Figure size 144x144 with 1 Axes>"
            ]
          },
          "metadata": {
            "tags": [],
            "needs_background": "light"
          }
        },
        {
          "output_type": "display_data",
          "data": {
            "image/png": "[encoded data removed]",
            "text/plain": [
              "<Figure size 144x144 with 1 Axes>"
            ]
          },
          "metadata": {
            "tags": [],
            "needs_background": "light"
          }
        },
        {
          "output_type": "display_data",
          "data": {
            "image/png": "[encoded data removed]",
            "text/plain": [
              "<Figure size 144x144 with 1 Axes>"
            ]
          },
          "metadata": {
            "tags": [],
            "needs_background": "light"
          }
        },
        {
          "output_type": "display_data",
          "data": {
            "image/png": "[encoded data removed]",
            "text/plain": [
              "<Figure size 144x144 with 1 Axes>"
            ]
          },
          "metadata": {
            "tags": [],
            "needs_background": "light"
          }
        },
        {
          "output_type": "display_data",
          "data": {
            "image/png": "[encoded data removed]",
            "text/plain": [
              "<Figure size 144x144 with 1 Axes>"
            ]
          },
          "metadata": {
            "tags": [],
            "needs_background": "light"
          }
        }
      ]
    },
    {
      "cell_type": "code",
      "metadata": {
        "colab": {
          "base_uri": "https://localhost:8080/",
          "height": 726
        },
        "id": "jtuZdwg-kHjr",
        "outputId": "398158e6-8c87-40c8-beb1-faa9a57381a3"
      },
      "source": [
        "#add noise:\n",
        "\n",
        "X_train_noisy = skimage.util.random_noise(X_train, mode='gaussian', var=0.2)\n",
        "X_test_noisy = skimage.util.random_noise(X_test, mode='gaussian', var=0.2)\n",
        "\n",
        "#and have a look on noisy images:\n",
        "\n",
        "for i in range(5):\n",
        "  plt.figure(figsize = (2,2))\n",
        "  plt.imshow(X_train_noisy[i].reshape(28, 28), cmap = 'gray')\n",
        "  plt.show()"
      ],
      "execution_count": null,
      "outputs": [
        {
          "output_type": "display_data",
          "data": {
            "image/png": "[encoded data removed]",
            "text/plain": [
              "<Figure size 144x144 with 1 Axes>"
            ]
          },
          "metadata": {
            "tags": [],
            "needs_background": "light"
          }
        },
        {
          "output_type": "display_data",
          "data": {
            "image/png": "[encoded data removed]",
            "text/plain": [
              "<Figure size 144x144 with 1 Axes>"
            ]
          },
          "metadata": {
            "tags": [],
            "needs_background": "light"
          }
        },
        {
          "output_type": "display_data",
          "data": {
            "image/png": "[encoded data removed]",
            "text/plain": [
              "<Figure size 144x144 with 1 Axes>"
            ]
          },
          "metadata": {
            "tags": [],
            "needs_background": "light"
          }
        },
        {
          "output_type": "display_data",
          "data": {
            "image/png": "[encoded data removed]",
            "text/plain": [
              "<Figure size 144x144 with 1 Axes>"
            ]
          },
          "metadata": {
            "tags": [],
            "needs_background": "light"
          }
        },
        {
          "output_type": "display_data",
          "data": {
            "image/png": "[encoded data removed]",
            "text/plain": [
              "<Figure size 144x144 with 1 Axes>"
            ]
          },
          "metadata": {
            "tags": [],
            "needs_background": "light"
          }
        }
      ]
    },
    {
      "cell_type": "code",
      "metadata": {
        "id": "CaIdZ7QEr8OO"
      },
      "source": [
        "#autoencoder:\n",
        "\n",
        "input = keras.Input(shape=(28, 28, 1))\n",
        "\n",
        "x = keras.layers.Conv2D(32, (3, 3), activation='relu', padding='same')(input)\n",
        "x = keras.layers.MaxPooling2D((2, 2), padding='same')(x)\n",
        "x = keras.layers.Conv2D(32, (3, 3), activation='relu', padding='same')(x)\n",
        "encoded = keras.layers.MaxPooling2D((2, 2), padding='same')(x)\n",
        "\n",
        "x = keras.layers.Conv2D(32, (3, 3), activation='relu', padding='same')(encoded)\n",
        "x = keras.layers.UpSampling2D((2, 2))(x)\n",
        "x = keras.layers.Conv2D(32, (3, 3), activation='relu', padding='same')(x)\n",
        "x = keras.layers.UpSampling2D((2, 2))(x)\n",
        "decoded = keras.layers.Conv2D(1, (3, 3), activation='sigmoid', padding='same')(x)\n",
        "\n",
        "\n",
        "autoencoder = keras.Model(input, decoded)\n",
        "autoencoder.compile(optimizer='adam', loss='binary_crossentropy')"
      ],
      "execution_count": null,
      "outputs": []
    },
    {
      "cell_type": "code",
      "metadata": {
        "colab": {
          "base_uri": "https://localhost:8080/"
        },
        "id": "sQweyuMHLy_g",
        "outputId": "5d626708-8637-4f9c-961a-327c26fa1175"
      },
      "source": [
        "autoencoder.summary()"
      ],
      "execution_count": null,
      "outputs": [
        {
          "output_type": "stream",
          "text": [
            "Model: \"model_3\"\n",
            "_________________________________________________________________\n",
            "Layer (type)                 Output Shape              Param #   \n",
            "=================================================================\n",
            "input_4 (InputLayer)         [(None, 28, 28, 1)]       0         \n",
            "_________________________________________________________________\n",
            "conv2d_17 (Conv2D)           (None, 28, 28, 32)        320       \n",
            "_________________________________________________________________\n",
            "max_pooling2d_7 (MaxPooling2 (None, 14, 14, 32)        0         \n",
            "_________________________________________________________________\n",
            "conv2d_18 (Conv2D)           (None, 14, 14, 32)        9248      \n",
            "_________________________________________________________________\n",
            "max_pooling2d_8 (MaxPooling2 (None, 7, 7, 32)          0         \n",
            "_________________________________________________________________\n",
            "conv2d_19 (Conv2D)           (None, 7, 7, 32)          9248      \n",
            "_________________________________________________________________\n",
            "up_sampling2d_7 (UpSampling2 (None, 14, 14, 32)        0         \n",
            "_________________________________________________________________\n",
            "conv2d_20 (Conv2D)           (None, 14, 14, 32)        9248      \n",
            "_________________________________________________________________\n",
            "up_sampling2d_8 (UpSampling2 (None, 28, 28, 32)        0         \n",
            "_________________________________________________________________\n",
            "conv2d_21 (Conv2D)           (None, 28, 28, 1)         289       \n",
            "=================================================================\n",
            "Total params: 28,353\n",
            "Trainable params: 28,353\n",
            "Non-trainable params: 0\n",
            "_________________________________________________________________\n"
          ],
          "name": "stdout"
        }
      ]
    },
    {
      "cell_type": "code",
      "metadata": {
        "colab": {
          "base_uri": "https://localhost:8080/"
        },
        "id": "Se-fs8bAf4kP",
        "outputId": "8276d684-4e28-4d43-e256-1cba5064b8e4"
      },
      "source": [
        "autoencoder.fit(X_train_noisy, X_train,\n",
        "                epochs=10,\n",
        "                batch_size=128,\n",
        "                shuffle=True)"
      ],
      "execution_count": null,
      "outputs": [
        {
          "output_type": "stream",
          "text": [
            "Epoch 1/10\n",
            "469/469 [==============================] - 137s 291ms/step - loss: 0.2583\n",
            "Epoch 2/10\n",
            "469/469 [==============================] - 136s 290ms/step - loss: 0.1074\n",
            "Epoch 3/10\n",
            "469/469 [==============================] - 135s 288ms/step - loss: 0.1014\n",
            "Epoch 4/10\n",
            "469/469 [==============================] - 136s 289ms/step - loss: 0.0986\n",
            "Epoch 5/10\n",
            "469/469 [==============================] - 135s 288ms/step - loss: 0.0966\n",
            "Epoch 6/10\n",
            "469/469 [==============================] - 135s 287ms/step - loss: 0.0951\n",
            "Epoch 7/10\n",
            "469/469 [==============================] - 135s 287ms/step - loss: 0.0940\n",
            "Epoch 8/10\n",
            "469/469 [==============================] - 135s 287ms/step - loss: 0.0931\n",
            "Epoch 9/10\n",
            "469/469 [==============================] - 135s 288ms/step - loss: 0.0925\n",
            "Epoch 10/10\n",
            "469/469 [==============================] - 135s 288ms/step - loss: 0.0918\n"
          ],
          "name": "stdout"
        },
        {
          "output_type": "execute_result",
          "data": {
            "text/plain": [
              "<keras.callbacks.History at 0x7fa00566be50>"
            ]
          },
          "metadata": {
            "tags": []
          },
          "execution_count": 18
        }
      ]
    },
    {
      "cell_type": "code",
      "metadata": {
        "id": "9EPTrD_CkOKM"
      },
      "source": [
        "X_test_denoised = autoencoder.predict(X_test_noisy)\n",
        "X_train_denoised = autoencoder.predict(X_train_noisy)"
      ],
      "execution_count": null,
      "outputs": []
    },
    {
      "cell_type": "code",
      "metadata": {
        "colab": {
          "base_uri": "https://localhost:8080/",
          "height": 868
        },
        "id": "3Adko7mTkkXP",
        "outputId": "e5d1f169-c560-4039-800b-ebf3253141b8"
      },
      "source": [
        "for i in range(3):\n",
        "  plt.figure(figsize = (2,2))\n",
        "  plt.imshow(X_test[i].reshape(28, 28), cmap = 'gray')\n",
        "  plt.show()\n",
        "  plt.figure(figsize = (2,2))\n",
        "  plt.imshow(X_test_denoised[i].reshape(28, 28), cmap = 'gray')\n",
        "  plt.show()"
      ],
      "execution_count": null,
      "outputs": [
        {
          "output_type": "display_data",
          "data": {
            "image/png": "[encoded data removed]",
            "text/plain": [
              "<Figure size 144x144 with 1 Axes>"
            ]
          },
          "metadata": {
            "tags": [],
            "needs_background": "light"
          }
        },
        {
          "output_type": "display_data",
          "data": {
            "image/png": "[encoded data removed]",
            "text/plain": [
              "<Figure size 144x144 with 1 Axes>"
            ]
          },
          "metadata": {
            "tags": [],
            "needs_background": "light"
          }
        },
        {
          "output_type": "display_data",
          "data": {
            "image/png": "[encoded data removed]",
            "text/plain": [
              "<Figure size 144x144 with 1 Axes>"
            ]
          },
          "metadata": {
            "tags": [],
            "needs_background": "light"
          }
        },
        {
          "output_type": "display_data",
          "data": {
            "image/png": "[encoded data removed]",
            "text/plain": [
              "<Figure size 144x144 with 1 Axes>"
            ]
          },
          "metadata": {
            "tags": [],
            "needs_background": "light"
          }
        },
        {
          "output_type": "display_data",
          "data": {
            "image/png": "[encoded data removed]",
            "text/plain": [
              "<Figure size 144x144 with 1 Axes>"
            ]
          },
          "metadata": {
            "tags": [],
            "needs_background": "light"
          }
        },
        {
          "output_type": "display_data",
          "data": {
            "image/png": "[encoded data removed]",
            "text/plain": [
              "<Figure size 144x144 with 1 Axes>"
            ]
          },
          "metadata": {
            "tags": [],
            "needs_background": "light"
          }
        }
      ]
    },
    {
      "cell_type": "code",
      "metadata": {
        "colab": {
          "base_uri": "https://localhost:8080/"
        },
        "id": "bpm5xbzdtg0s",
        "outputId": "77f47d08-7e27-439e-8752-2773c75c435f"
      },
      "source": [
        "#classification network:\n",
        "\n",
        "c_model = Sequential()\n",
        "\n",
        "c_model.add(Conv2D(32, (3, 3), activation='relu', padding='same', input_shape=(28, 28, 1)))\n",
        "c_model.add(LeakyReLU(0.1))\n",
        "c_model.add(MaxPooling2D((2, 2)))\n",
        "c_model.add(Dropout(0.25))\n",
        "\n",
        "c_model.add(Flatten())\n",
        "\n",
        "c_model.add(Dense(100, activation='relu', kernel_initializer='he_uniform'))\n",
        "c_model.add(LeakyReLU(0.1))\n",
        "c_model.add(Dropout(0.5))\n",
        "c_model.add(Dense(10))\n",
        "c_model.add(Activation(\"softmax\"))\n",
        "\n",
        "c_model.summary()"
      ],
      "execution_count": null,
      "outputs": [
        {
          "output_type": "stream",
          "text": [
            "Model: \"sequential_2\"\n",
            "_________________________________________________________________\n",
            "Layer (type)                 Output Shape              Param #   \n",
            "=================================================================\n",
            "conv2d_23 (Conv2D)           (None, 28, 28, 32)        320       \n",
            "_________________________________________________________________\n",
            "leaky_re_lu_2 (LeakyReLU)    (None, 28, 28, 32)        0         \n",
            "_________________________________________________________________\n",
            "max_pooling2d_10 (MaxPooling (None, 14, 14, 32)        0         \n",
            "_________________________________________________________________\n",
            "dropout_2 (Dropout)          (None, 14, 14, 32)        0         \n",
            "_________________________________________________________________\n",
            "flatten_1 (Flatten)          (None, 6272)              0         \n",
            "_________________________________________________________________\n",
            "dense_2 (Dense)              (None, 100)               627300    \n",
            "_________________________________________________________________\n",
            "leaky_re_lu_3 (LeakyReLU)    (None, 100)               0         \n",
            "_________________________________________________________________\n",
            "dropout_3 (Dropout)          (None, 100)               0         \n",
            "_________________________________________________________________\n",
            "dense_3 (Dense)              (None, 10)                1010      \n",
            "_________________________________________________________________\n",
            "activation_1 (Activation)    (None, 10)                0         \n",
            "=================================================================\n",
            "Total params: 628,630\n",
            "Trainable params: 628,630\n",
            "Non-trainable params: 0\n",
            "_________________________________________________________________\n"
          ],
          "name": "stdout"
        }
      ]
    },
    {
      "cell_type": "code",
      "metadata": {
        "id": "57qQ384EwEgt"
      },
      "source": [
        "c_model.compile(\n",
        "    loss='categorical_crossentropy',  \n",
        "    optimizer=keras.optimizers.Adamax(), \n",
        "    metrics=['accuracy']\n",
        ")"
      ],
      "execution_count": null,
      "outputs": []
    },
    {
      "cell_type": "code",
      "metadata": {
        "id": "R6nIiXCG4b4w"
      },
      "source": [
        "y_train = to_categorical(y_train)\n",
        "y_test = to_categorical(y_test)"
      ],
      "execution_count": null,
      "outputs": []
    },
    {
      "cell_type": "code",
      "metadata": {
        "colab": {
          "base_uri": "https://localhost:8080/"
        },
        "id": "xOr4iBMR1zJx",
        "outputId": "fff9016e-f626-4e8c-a5e5-acf387ce51de"
      },
      "source": [
        "c_model.fit(X_train, y_train, \n",
        "    batch_size=32,\n",
        "    epochs=5,\n",
        "    verbose=0\n",
        ")"
      ],
      "execution_count": null,
      "outputs": [
        {
          "output_type": "execute_result",
          "data": {
            "text/plain": [
              "<keras.callbacks.History at 0x7fa00336e090>"
            ]
          },
          "metadata": {
            "tags": []
          },
          "execution_count": 56
        }
      ]
    },
    {
      "cell_type": "code",
      "metadata": {
        "colab": {
          "base_uri": "https://localhost:8080/"
        },
        "id": "wwW6bLfn9PcR",
        "outputId": "9d6b6cd4-ea50-4a10-c7fe-391bdabad15a"
      },
      "source": [
        "eval_test = c_model.evaluate(X_test, y_test)\n",
        "print('test loss, test accuracy:', eval_test)"
      ],
      "execution_count": null,
      "outputs": [
        {
          "output_type": "stream",
          "text": [
            "313/313 [==============================] - 3s 8ms/step - loss: 0.0428 - accuracy: 0.9861\n",
            "test loss, test accuracy: [0.042775318026542664, 0.9861000180244446]\n"
          ],
          "name": "stdout"
        }
      ]
    },
    {
      "cell_type": "code",
      "metadata": {
        "colab": {
          "base_uri": "https://localhost:8080/"
        },
        "id": "DWSO_6bw9glo",
        "outputId": "a697071f-1870-43f1-f436-4f6cee4a42a4"
      },
      "source": [
        "eval_noisy = c_model.evaluate(X_test_noisy, y_test)\n",
        "print('noisy loss, noisy accuracy:', eval_noisy)"
      ],
      "execution_count": null,
      "outputs": [
        {
          "output_type": "stream",
          "text": [
            "313/313 [==============================] - 3s 8ms/step - loss: 2.3869 - accuracy: 0.5743\n",
            "noisy loss, noisy accuracy: [2.3869168758392334, 0.5742999911308289]\n"
          ],
          "name": "stdout"
        }
      ]
    },
    {
      "cell_type": "code",
      "metadata": {
        "colab": {
          "base_uri": "https://localhost:8080/"
        },
        "id": "UoR_tT_q9uAr",
        "outputId": "d44d2f78-59c7-46c2-eb80-b42a4be94d8c"
      },
      "source": [
        "eval_denoised = c_model.evaluate(X_test_denoised, y_test)\n",
        "print('denoised loss, denoised accuracy:', eval_denoised)"
      ],
      "execution_count": null,
      "outputs": [
        {
          "output_type": "stream",
          "text": [
            "313/313 [==============================] - 2s 8ms/step - loss: 0.1068 - accuracy: 0.9656\n",
            "denoised loss, denoised accuracy: [0.1068260595202446, 0.9656000137329102]\n"
          ],
          "name": "stdout"
        }
      ]
    }
  ]
}